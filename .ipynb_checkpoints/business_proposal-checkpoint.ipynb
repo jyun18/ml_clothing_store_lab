{
 "cells": [
  {
   "cell_type": "markdown",
   "metadata": {},
   "source": [
    "## Lift Chart"
   ]
  },
  {
   "cell_type": "code",
   "execution_count": 51,
   "metadata": {},
   "outputs": [
    {
     "data": {
      "text/html": [
       "<div>\n",
       "<style scoped>\n",
       "    .dataframe tbody tr th:only-of-type {\n",
       "        vertical-align: middle;\n",
       "    }\n",
       "\n",
       "    .dataframe tbody tr th {\n",
       "        vertical-align: top;\n",
       "    }\n",
       "\n",
       "    .dataframe thead th {\n",
       "        text-align: right;\n",
       "    }\n",
       "</style>\n",
       "<table border=\"1\" class=\"dataframe\">\n",
       "  <thead>\n",
       "    <tr style=\"text-align: right;\">\n",
       "      <th></th>\n",
       "      <th>Instance</th>\n",
       "      <th>Actual Class</th>\n",
       "      <th>Predicted Class</th>\n",
       "    </tr>\n",
       "  </thead>\n",
       "  <tbody>\n",
       "    <tr>\n",
       "      <th>0</th>\n",
       "      <td>1</td>\n",
       "      <td>0.0</td>\n",
       "      <td>0.0</td>\n",
       "    </tr>\n",
       "    <tr>\n",
       "      <th>1</th>\n",
       "      <td>2</td>\n",
       "      <td>0.0</td>\n",
       "      <td>0.0</td>\n",
       "    </tr>\n",
       "    <tr>\n",
       "      <th>2</th>\n",
       "      <td>3</td>\n",
       "      <td>0.0</td>\n",
       "      <td>0.0</td>\n",
       "    </tr>\n",
       "    <tr>\n",
       "      <th>3</th>\n",
       "      <td>4</td>\n",
       "      <td>0.0</td>\n",
       "      <td>0.0</td>\n",
       "    </tr>\n",
       "    <tr>\n",
       "      <th>4</th>\n",
       "      <td>5</td>\n",
       "      <td>0.0</td>\n",
       "      <td>0.0</td>\n",
       "    </tr>\n",
       "    <tr>\n",
       "      <th>...</th>\n",
       "      <td>...</td>\n",
       "      <td>...</td>\n",
       "      <td>...</td>\n",
       "    </tr>\n",
       "    <tr>\n",
       "      <th>7170</th>\n",
       "      <td>7171</td>\n",
       "      <td>1.0</td>\n",
       "      <td>0.0</td>\n",
       "    </tr>\n",
       "    <tr>\n",
       "      <th>7171</th>\n",
       "      <td>7172</td>\n",
       "      <td>0.0</td>\n",
       "      <td>0.0</td>\n",
       "    </tr>\n",
       "    <tr>\n",
       "      <th>7172</th>\n",
       "      <td>7173</td>\n",
       "      <td>0.0</td>\n",
       "      <td>0.0</td>\n",
       "    </tr>\n",
       "    <tr>\n",
       "      <th>7173</th>\n",
       "      <td>7174</td>\n",
       "      <td>0.0</td>\n",
       "      <td>0.0</td>\n",
       "    </tr>\n",
       "    <tr>\n",
       "      <th>7174</th>\n",
       "      <td>7175</td>\n",
       "      <td>0.0</td>\n",
       "      <td>0.0</td>\n",
       "    </tr>\n",
       "  </tbody>\n",
       "</table>\n",
       "<p>7175 rows × 3 columns</p>\n",
       "</div>"
      ],
      "text/plain": [
       "      Instance  Actual Class  Predicted Class\n",
       "0            1           0.0              0.0\n",
       "1            2           0.0              0.0\n",
       "2            3           0.0              0.0\n",
       "3            4           0.0              0.0\n",
       "4            5           0.0              0.0\n",
       "...        ...           ...              ...\n",
       "7170      7171           1.0              0.0\n",
       "7171      7172           0.0              0.0\n",
       "7172      7173           0.0              0.0\n",
       "7173      7174           0.0              0.0\n",
       "7174      7175           0.0              0.0\n",
       "\n",
       "[7175 rows x 3 columns]"
      ]
     },
     "execution_count": 51,
     "metadata": {},
     "output_type": "execute_result"
    }
   ],
   "source": [
    "import pandas as pd\n",
    "import numpy as np\n",
    "\n",
    "file_name = \"../datasets/lift_data.csv\"\n",
    "\n",
    "data = pd.read_csv(file_name)\n",
    "\n",
    "data"
   ]
  },
  {
   "cell_type": "code",
   "execution_count": 52,
   "metadata": {},
   "outputs": [
    {
     "data": {
      "text/html": [
       "<div>\n",
       "<style scoped>\n",
       "    .dataframe tbody tr th:only-of-type {\n",
       "        vertical-align: middle;\n",
       "    }\n",
       "\n",
       "    .dataframe tbody tr th {\n",
       "        vertical-align: top;\n",
       "    }\n",
       "\n",
       "    .dataframe thead th {\n",
       "        text-align: right;\n",
       "    }\n",
       "</style>\n",
       "<table border=\"1\" class=\"dataframe\">\n",
       "  <thead>\n",
       "    <tr style=\"text-align: right;\">\n",
       "      <th></th>\n",
       "      <th>Instance</th>\n",
       "      <th>Actual Class</th>\n",
       "      <th>Predicted Class</th>\n",
       "    </tr>\n",
       "  </thead>\n",
       "  <tbody>\n",
       "    <tr>\n",
       "      <th>0</th>\n",
       "      <td>5740</td>\n",
       "      <td>1.0</td>\n",
       "      <td>1.0</td>\n",
       "    </tr>\n",
       "    <tr>\n",
       "      <th>1</th>\n",
       "      <td>1292</td>\n",
       "      <td>1.0</td>\n",
       "      <td>1.0</td>\n",
       "    </tr>\n",
       "    <tr>\n",
       "      <th>2</th>\n",
       "      <td>5965</td>\n",
       "      <td>0.0</td>\n",
       "      <td>1.0</td>\n",
       "    </tr>\n",
       "    <tr>\n",
       "      <th>3</th>\n",
       "      <td>6812</td>\n",
       "      <td>1.0</td>\n",
       "      <td>1.0</td>\n",
       "    </tr>\n",
       "    <tr>\n",
       "      <th>4</th>\n",
       "      <td>1289</td>\n",
       "      <td>1.0</td>\n",
       "      <td>1.0</td>\n",
       "    </tr>\n",
       "    <tr>\n",
       "      <th>...</th>\n",
       "      <td>...</td>\n",
       "      <td>...</td>\n",
       "      <td>...</td>\n",
       "    </tr>\n",
       "    <tr>\n",
       "      <th>7170</th>\n",
       "      <td>2468</td>\n",
       "      <td>0.0</td>\n",
       "      <td>0.0</td>\n",
       "    </tr>\n",
       "    <tr>\n",
       "      <th>7171</th>\n",
       "      <td>2467</td>\n",
       "      <td>1.0</td>\n",
       "      <td>0.0</td>\n",
       "    </tr>\n",
       "    <tr>\n",
       "      <th>7172</th>\n",
       "      <td>2466</td>\n",
       "      <td>0.0</td>\n",
       "      <td>0.0</td>\n",
       "    </tr>\n",
       "    <tr>\n",
       "      <th>7173</th>\n",
       "      <td>2465</td>\n",
       "      <td>0.0</td>\n",
       "      <td>0.0</td>\n",
       "    </tr>\n",
       "    <tr>\n",
       "      <th>7174</th>\n",
       "      <td>7175</td>\n",
       "      <td>0.0</td>\n",
       "      <td>0.0</td>\n",
       "    </tr>\n",
       "  </tbody>\n",
       "</table>\n",
       "<p>7175 rows × 3 columns</p>\n",
       "</div>"
      ],
      "text/plain": [
       "      Instance  Actual Class  Predicted Class\n",
       "0         5740           1.0              1.0\n",
       "1         1292           1.0              1.0\n",
       "2         5965           0.0              1.0\n",
       "3         6812           1.0              1.0\n",
       "4         1289           1.0              1.0\n",
       "...        ...           ...              ...\n",
       "7170      2468           0.0              0.0\n",
       "7171      2467           1.0              0.0\n",
       "7172      2466           0.0              0.0\n",
       "7173      2465           0.0              0.0\n",
       "7174      7175           0.0              0.0\n",
       "\n",
       "[7175 rows x 3 columns]"
      ]
     },
     "execution_count": 52,
     "metadata": {},
     "output_type": "execute_result"
    }
   ],
   "source": [
    "data.sort_values(by=['Predicted Class'], inplace=True, ascending=False)\n",
    "\n",
    "data = data.reset_index(drop=True)\n",
    "\n",
    "data"
   ]
  },
  {
   "cell_type": "code",
   "execution_count": 53,
   "metadata": {},
   "outputs": [
    {
     "name": "stdout",
     "output_type": "stream",
     "text": [
      "      Number of Mails Sent  Number of Mails Responded\n",
      "0                      1.0                        1.0\n",
      "1                      2.0                        2.0\n",
      "2                      3.0                        2.0\n",
      "3                      4.0                        3.0\n",
      "4                      5.0                        4.0\n",
      "...                    ...                        ...\n",
      "7170                7171.0                     1235.0\n",
      "7171                7172.0                     1236.0\n",
      "7172                7173.0                     1236.0\n",
      "7173                7174.0                     1236.0\n",
      "7174                7175.0                     1236.0\n",
      "\n",
      "[7175 rows x 2 columns]\n"
     ]
    }
   ],
   "source": [
    "sorted_input = pd.DataFrame(columns=['Number of Mails Sent', 'Number of Mails Responded'])\n",
    "\n",
    "for i in range(len(data)):\n",
    "    sum = data.loc[i, \"Actual Class\"]\n",
    "    for j in range(0, i):\n",
    "        sum += data.loc[j, \"Actual Class\"]\n",
    "    sorted_input = sorted_input.append({'Number of Mails Sent': i + 1, 'Number of Mails Responded': sum}, ignore_index=True)\n",
    "\n",
    "print(sorted_input)"
   ]
  },
  {
   "cell_type": "code",
   "execution_count": 55,
   "metadata": {},
   "outputs": [
    {
     "name": "stdout",
     "output_type": "stream",
     "text": [
      "      Number of Mails Sent  Number of Mails Responded\n",
      "0                      1.0                        0.0\n",
      "1                      2.0                        0.0\n",
      "2                      3.0                        0.0\n",
      "3                      4.0                        0.0\n",
      "4                      5.0                        0.0\n",
      "...                    ...                        ...\n",
      "7170                7171.0                     1235.0\n",
      "7171                7172.0                     1235.0\n",
      "7172                7173.0                     1235.0\n",
      "7173                7174.0                     1235.0\n",
      "7174                7175.0                     1236.0\n",
      "\n",
      "[7175 rows x 2 columns]\n"
     ]
    }
   ],
   "source": [
    "shuffled_data = data.iloc[np.random.permutation(data.index)].reset_index(drop=True)\n",
    "\n",
    "rand_input = pd.DataFrame(columns=['Number of Mails Sent', 'Number of Mails Responded'])\n",
    "\n",
    "for i in range(len(shuffled_data)):\n",
    "    sum = shuffled_data.loc[i, \"Actual Class\"]\n",
    "    for j in range(0, i):\n",
    "        sum += shuffled_data.loc[j, \"Actual Class\"]\n",
    "    rand_input = rand_input.append({'Number of Mails Sent': i + 1, 'Number of Mails Responded': sum}, ignore_index=True)\n",
    "\n",
    "print(rand_input)"
   ]
  },
  {
   "cell_type": "code",
   "execution_count": 57,
   "metadata": {},
   "outputs": [
    {
     "data": {
      "image/png": "[encoded data removed]",
      "text/plain": [
       "<Figure size 432x288 with 1 Axes>"
      ]
     },
     "metadata": {
      "needs_background": "light"
     },
     "output_type": "display_data"
    }
   ],
   "source": [
    "import matplotlib.pyplot as plt\n",
    "\n",
    "fig = plt.figure()\n",
    "plt.plot(sorted_input['Number of Mails Sent'], sorted_input['Number of Mails Responded'], label=\"sorted\")\n",
    "plt.plot(rand_input['Number of Mails Sent'], rand_input['Number of Mails Responded'], label=\"rand\")\n",
    "plt.title(\"Lift Chart\")\n",
    "plt.xlabel('Number of Mails Sent')\n",
    "plt.ylabel('Number of Mails Responded')\n",
    "plt.legend()\n",
    "plt.show()"
   ]
  },
  {
   "cell_type": "markdown",
   "metadata": {},
   "source": [
    "## Cost - Benefit Analysis"
   ]
  },
  {
   "cell_type": "code",
   "execution_count": 88,
   "metadata": {},
   "outputs": [
    {
     "name": "stdout",
     "output_type": "stream",
     "text": [
      "      Number of Mails Sent  Benefit\n",
      "0                      1.0     11.0\n",
      "1                      2.0     22.0\n",
      "2                      3.0     18.0\n",
      "3                      4.0     29.0\n",
      "4                      5.0     40.0\n",
      "...                    ...      ...\n",
      "7170                7171.0 -10159.0\n",
      "7171                7172.0 -10148.0\n",
      "7172                7173.0 -10152.0\n",
      "7173                7174.0 -10156.0\n",
      "7174                7175.0 -10160.0\n",
      "\n",
      "[7175 rows x 2 columns]\n"
     ]
    }
   ],
   "source": [
    "cost = 4\n",
    "benefit = 15\n",
    "cost_benefit_of_mails = pd.DataFrame(columns=['Number of Mails Sent', 'Benefit'])\n",
    "\n",
    "for i in range(len(data)):\n",
    "    net_benefit = (15 * sorted_input.loc[i, \"Number of Mails Responded\"]) - (4 * sorted_input.loc[i, \"Number of Mails Sent\"])\n",
    "    cost_benefit_of_mails = cost_benefit_of_mails.append({'Number of Mails Sent': i + 1, 'Benefit': net_benefit}, ignore_index=True)\n",
    "\n",
    "print(cost_benefit_of_mails)"
   ]
  },
  {
   "cell_type": "code",
   "execution_count": 89,
   "metadata": {},
   "outputs": [
    {
     "data": {
      "image/png": "[encoded data removed]",
      "text/plain": [
       "<Figure size 432x288 with 1 Axes>"
      ]
     },
     "metadata": {
      "needs_background": "light"
     },
     "output_type": "display_data"
    }
   ],
   "source": [
    "import matplotlib.pyplot as plt\n",
    "\n",
    "fig = plt.figure()\n",
    "plt.plot(cost_benefit_of_mails['Number of Mails Sent'], cost_benefit_of_mails['Benefit'])\n",
    "plt.title(\"Cost and Benefit Chart with Sorted Data\")\n",
    "plt.xlabel('Number of Mails Sent')\n",
    "plt.ylabel('Net Benefit')\n",
    "plt.show()"
   ]
  },
  {
   "cell_type": "code",
   "execution_count": 90,
   "metadata": {},
   "outputs": [
    {
     "name": "stdout",
     "output_type": "stream",
     "text": [
      "Maximum Benefit:  2550.0\n",
      "Number of mails sent corresponding to maximum benefit:  390\n"
     ]
    }
   ],
   "source": [
    "maxes = cost_benefit_of_mails.max()\n",
    "print(\"Maximum Benefit: \", maxes[1])\n",
    "\n",
    "index = cost_benefit_of_mails.index[cost_benefit_of_mails['Benefit'] == maxes[1]].tolist()\n",
    "print(\"Number of mails sent corresponding to maximum benefit: \", index[0] + 1)\n"
   ]
  },
  {
   "cell_type": "code",
   "execution_count": 91,
   "metadata": {},
   "outputs": [
    {
     "name": "stdout",
     "output_type": "stream",
     "text": [
      "      Number of Mails Sent  Benefit\n",
      "0                      1.0     -4.0\n",
      "1                      2.0     -8.0\n",
      "2                      3.0    -12.0\n",
      "3                      4.0    -16.0\n",
      "4                      5.0    -20.0\n",
      "...                    ...      ...\n",
      "7170                7171.0 -10159.0\n",
      "7171                7172.0 -10163.0\n",
      "7172                7173.0 -10167.0\n",
      "7173                7174.0 -10171.0\n",
      "7174                7175.0 -10160.0\n",
      "\n",
      "[7175 rows x 2 columns]\n"
     ]
    }
   ],
   "source": [
    "cost = 4\n",
    "benefit = 15\n",
    "cost_benefit_of_mails = pd.DataFrame(columns=['Number of Mails Sent', 'Benefit'])\n",
    "\n",
    "for i in range(len(data)):\n",
    "    net_benefit = (15 * rand_input.loc[i, \"Number of Mails Responded\"]) - (4 * rand_input.loc[i, \"Number of Mails Sent\"])\n",
    "    cost_benefit_of_mails = cost_benefit_of_mails.append({'Number of Mails Sent': i + 1, 'Benefit': net_benefit}, ignore_index=True)\n",
    "\n",
    "print(cost_benefit_of_mails)"
   ]
  },
  {
   "cell_type": "code",
   "execution_count": 92,
   "metadata": {},
   "outputs": [
    {
     "data": {
      "image/png": "[encoded data removed]",
      "text/plain": [
       "<Figure size 432x288 with 1 Axes>"
      ]
     },
     "metadata": {
      "needs_background": "light"
     },
     "output_type": "display_data"
    }
   ],
   "source": [
    "import matplotlib.pyplot as plt\n",
    "\n",
    "fig = plt.figure()\n",
    "plt.plot(cost_benefit_of_mails['Number of Mails Sent'], cost_benefit_of_mails['Benefit'])\n",
    "plt.title(\"Cost and Benefit Chart with Unsorted Data\")\n",
    "plt.xlabel('Number of Mails Sent')\n",
    "plt.ylabel('Net Benefit')\n",
    "plt.show()"
   ]
  },
  {
   "cell_type": "code",
   "execution_count": 93,
   "metadata": {},
   "outputs": [
    {
     "name": "stdout",
     "output_type": "stream",
     "text": [
      "Maximum Benefit:  -4.0\n",
      "Number of mails sent corresponding to maximum benefit:  1\n"
     ]
    }
   ],
   "source": [
    "maxes = cost_benefit_of_mails.max()\n",
    "print(\"Maximum Benefit: \", maxes[1])\n",
    "\n",
    "index = cost_benefit_of_mails.index[cost_benefit_of_mails['Benefit'] == maxes[1]].tolist()\n",
    "print(\"Number of mails sent corresponding to maximum benefit: \", index[0] + 1)\n"
   ]
  }
 ],
 "metadata": {
  "kernelspec": {
   "display_name": "Python 3",
   "language": "python",
   "name": "python3"
  },
  "language_info": {
   "codemirror_mode": {
    "name": "ipython",
    "version": 3
   },
   "file_extension": ".py",
   "mimetype": "text/x-python",
   "name": "python",
   "nbconvert_exporter": "python",
   "pygments_lexer": "ipython3",
   "version": "3.8.3"
  }
 },
 "nbformat": 4,
 "nbformat_minor": 4
}
